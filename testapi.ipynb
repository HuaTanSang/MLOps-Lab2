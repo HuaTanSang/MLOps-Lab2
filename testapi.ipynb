{
 "cells": [
  {
   "cell_type": "code",
   "execution_count": 10,
   "id": "6d758279",
   "metadata": {},
   "outputs": [],
   "source": [
    "from fastapi import FastAPI\n",
    "from pydantic import BaseModel, Field\n",
    "import pickle\n",
    "import pandas as pd \n",
    "from datetime import datetime\n",
    "import numpy as np "
   ]
  },
  {
   "cell_type": "code",
   "execution_count": 9,
   "id": "7671a9ed",
   "metadata": {},
   "outputs": [],
   "source": [
    "class InputItem(BaseModel):\n",
    "    Low: float\n",
    "    High: float\n",
    "    Close: float\n",
    "    SMA_10: float\n",
    "    RSI_14: float\n",
    "    ATRr_14: float\n",
    "    ADX_14: float\n",
    "    DMP_14: float\n",
    "    DMN_14: float\n",
    "    SKEW_30: float\n",
    "    BBL_5_2_0: float = Field(alias=\"BBL_5_2.0\")\n",
    "    BBU_5_2_0: float = Field(alias=\"BBU_5_2.0\")\n",
    "    MACD_12_26_9: float\n",
    "    MACDs_12_26_9: float\n"
   ]
  },
  {
   "cell_type": "code",
   "execution_count": 11,
   "id": "eb913693",
   "metadata": {},
   "outputs": [],
   "source": [
    "app = FastAPI() \n",
    "\n",
    "model_dir = \"/home/huatansang/Documents/MLOps-Lab/Lab1/artifacts/ac4b5fd93b7d41b2a2f27dd31cde4a75/artifacts/checkpoints/best_model/model.pkl\"\n",
    "with open (model_dir, mode='rb' ) as file: \n",
    "    model = pickle.load(file)"
   ]
  },
  {
   "cell_type": "code",
   "execution_count": 13,
   "id": "ce2e4f3f",
   "metadata": {},
   "outputs": [],
   "source": [
    "@app.get(\"/\")\n",
    "def root(): \n",
    "    return {\"message\": \"Welcome to Iris Classifier API\"}\n",
    "\n",
    "@app.post(\"/predict\")\n",
    "def predict(data: InputItem):\n",
    "    arr = np.array([\n",
    "        [\n",
    "            data.Low,\n",
    "            data.High,\n",
    "            data.Close,\n",
    "            data.SMA_10, \n",
    "            data.RSI_14, \n",
    "            data.ATRr_14, \n",
    "            data.ADX_14, \n",
    "            data.DMP_14, \n",
    "            data.DMN_14, \n",
    "            data.SKEW_30, \n",
    "            data.BBL_5_2_0, \n",
    "            data.BBU_5_2_0, \n",
    "            data.MACD_12_26_9, \n",
    "            data.MACDs_12_26_9\n",
    "        ]\n",
    "    ])\n",
    "\n",
    "    pred = model.predict(arr)[0]\n",
    "    return {int(pred)}"
   ]
  },
  {
   "cell_type": "code",
   "execution_count": null,
   "id": "3e58f61c",
   "metadata": {},
   "outputs": [],
   "source": []
  }
 ],
 "metadata": {
  "kernelspec": {
   "display_name": "myenv",
   "language": "python",
   "name": "python3"
  },
  "language_info": {
   "codemirror_mode": {
    "name": "ipython",
    "version": 3
   },
   "file_extension": ".py",
   "mimetype": "text/x-python",
   "name": "python",
   "nbconvert_exporter": "python",
   "pygments_lexer": "ipython3",
   "version": "3.10.16"
  }
 },
 "nbformat": 4,
 "nbformat_minor": 5
}
